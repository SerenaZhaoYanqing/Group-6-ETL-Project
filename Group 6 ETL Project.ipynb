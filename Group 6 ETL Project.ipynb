{
 "cells": [
  {
   "cell_type": "code",
   "execution_count": 12,
   "id": "6c1b9a9b",
   "metadata": {},
   "outputs": [],
   "source": [
    "import pandas as pd\n",
    "from sqlalchemy import create_engine"
   ]
  },
  {
   "cell_type": "markdown",
   "id": "65101a44",
   "metadata": {},
   "source": [
    "# Store CSV into Dataframe "
   ]
  },
  {
   "cell_type": "code",
   "execution_count": 36,
   "id": "28d14309",
   "metadata": {},
   "outputs": [],
   "source": [
    "eruptions = \"Resources/eruptions.csv\"\n",
    "eruptions_data = pd.read_csv(eruptions)\n",
    "\n",
    "events = \"Resources/events.csv\"\n",
    "events_df = pd.read_csv(events)\n",
    "\n",
    "volcano = \"Resources/volcano.csv\"\n",
    "volcano_df = pd.read_csv(volcano)\n",
    "\n",
    "damage = \"Resources/damage.csv\"\n",
    "damage_df = pd.read_csv(damage)\n",
    "\n"
   ]
  },
  {
   "cell_type": "code",
   "execution_count": null,
   "id": "39d6ab77",
   "metadata": {},
   "outputs": [],
   "source": []
  },
  {
   "cell_type": "code",
   "execution_count": null,
   "id": "40023c1c",
   "metadata": {},
   "outputs": [],
   "source": []
  },
  {
   "cell_type": "code",
   "execution_count": null,
   "id": "be178ed2",
   "metadata": {},
   "outputs": [],
   "source": []
  },
  {
   "cell_type": "code",
   "execution_count": null,
   "id": "2c32d2eb",
   "metadata": {},
   "outputs": [],
   "source": []
  },
  {
   "cell_type": "code",
   "execution_count": null,
   "id": "6d584266",
   "metadata": {},
   "outputs": [],
   "source": []
  }
 ],
 "metadata": {
  "kernelspec": {
   "display_name": "Python 3",
   "language": "python",
   "name": "python3"
  },
  "language_info": {
   "codemirror_mode": {
    "name": "ipython",
    "version": 3
   },
   "file_extension": ".py",
   "mimetype": "text/x-python",
   "name": "python",
   "nbconvert_exporter": "python",
   "pygments_lexer": "ipython3",
   "version": "3.8.8"
  }
 },
 "nbformat": 4,
 "nbformat_minor": 5
}
