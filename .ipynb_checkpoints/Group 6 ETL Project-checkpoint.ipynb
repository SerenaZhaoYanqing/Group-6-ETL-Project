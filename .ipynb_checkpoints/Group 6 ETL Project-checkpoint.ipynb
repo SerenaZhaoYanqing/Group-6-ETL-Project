{
 "cells": [
  {
   "cell_type": "code",
   "execution_count": 12,
   "id": "08d0647e",
   "metadata": {},
   "outputs": [],
   "source": [
    "import pandas as pd\n",
    "from sqlalchemy import create_engine"
   ]
  },
  {
   "cell_type": "markdown",
   "id": "872d8e2a",
   "metadata": {},
   "source": [
    "# Store CSV into Dataframe "
   ]
  },
  {
   "cell_type": "code",
   "execution_count": 36,
   "id": "654f1650",
   "metadata": {},
   "outputs": [],
   "source": [
    "eruptions = \"Resources/eruptions.csv\"\n",
    "eruptions_data = pd.read_csv(eruptions)\n",
    "\n",
    "events = \"Resources/events.csv\"\n",
    "events_df = pd.read_csv(events)\n",
    "\n",
    "volcano = \"Resources/volcano.csv\"\n",
    "volcano_df = pd.read_csv(volcano)\n",
    "\n",
    "damage = \"Resources/damage.csv\"\n",
    "damage_df = pd.read_csv(damage,sep=\";\")\n",
    "\n"
   ]
  },
  {
   "cell_type": "code",
   "execution_count": null,
   "id": "f714df36",
   "metadata": {},
   "outputs": [],
   "source": [
    "# getting data from 1800 onwards \n"
   ]
  },
  {
   "cell_type": "code",
   "execution_count": null,
   "id": "2cbb6e9d",
   "metadata": {},
   "outputs": [],
   "source": []
  },
  {
   "cell_type": "code",
   "execution_count": null,
   "id": "a24386a2",
   "metadata": {},
   "outputs": [],
   "source": []
  },
  {
   "cell_type": "code",
   "execution_count": null,
   "id": "49a757f8",
   "metadata": {},
   "outputs": [],
   "source": []
  },
  {
   "cell_type": "code",
   "execution_count": null,
   "id": "b505d6c4",
   "metadata": {},
   "outputs": [],
   "source": []
  },
  {
   "cell_type": "code",
   "execution_count": null,
   "id": "25cfb539",
   "metadata": {},
   "outputs": [],
   "source": []
  }
 ],
 "metadata": {
  "kernelspec": {
   "display_name": "Python 3",
   "language": "python",
   "name": "python3"
  },
  "language_info": {
   "codemirror_mode": {
    "name": "ipython",
    "version": 3
   },
   "file_extension": ".py",
   "mimetype": "text/x-python",
   "name": "python",
   "nbconvert_exporter": "python",
   "pygments_lexer": "ipython3",
   "version": "3.8.8"
  }
 },
 "nbformat": 4,
 "nbformat_minor": 5
}
